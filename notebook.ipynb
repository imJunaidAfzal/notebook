{
 "cells": [
  {
   "cell_type": "markdown",
   "metadata": {},
   "source": [
    "# Notebook"
   ]
  },
  {
   "cell_type": "markdown",
   "metadata": {},
   "source": [
    "## Introduction\n",
    "Welcome to this final project! In this notebook, we'll explore various data science concepts and demonstrate some basic coding exercises."
   ]
  },
  {
   "cell_type": "code",
   "execution_count": null,
   "metadata": {},
   "outputs": [],
   "source": []
  },
  {
   "cell_type": "markdown",
   "metadata": {},
   "source": [
    "## Data Science Languages\n",
    "1. Julia\n",
    "2. Python\n",
    "3. R"
   ]
  },
  {
   "cell_type": "markdown",
   "metadata": {},
   "source": [
    "## Data Science Libraries\n",
    "\n",
    "1. **NumPy:** A fundamental package for scientific computing with support for large, multi-dimensional arrays and matrices.\n",
    "\n",
    "2. **Pandas:** A powerful library for data manipulation and analysis, providing data structures like DataFrames for efficient data handling.\n",
    "\n",
    "3. **Matplotlib:** A versatile library for creating static, animated, and interactive visualizations in Python.\n",
    "\n",
    "4. **Scikit-learn:** An open-source machine learning library that provides simple and efficient tools for data analysis and modeling.\n",
    "\n",
    "5. **TensorFlow:** An open-source machine learning framework developed by Google for building and training deep learning models.\n",
    "\n",
    "6. **PyTorch:** A deep learning library known for its dynamic computational graph, making it popular for research and prototyping.\n",
    "\n",
    "7. **Seaborn:** Built on top of Matplotlib, Seaborn is a statistical data visualization library that provides an aesthetically pleasing and informative visual representation of data.\n",
    "\n",
    "8. **NLTK (Natural Language Toolkit):** A library for working with human language data, providing tools for text processing and analysis.\n",
    "\n",
    "9. **Statsmodels:** A library for estimating and testing statistical models, including linear and non-linear regression models.\n",
    "\n",
    "10. **Plotly:** An interactive graphing library that allows creating interactive plots and dashboards for data visualization.\n",
    "\n",
    "11. **Bokeh:** A Python interactive visualization library targeting modern web browsers, enabling elegant and concise visualizations.\n",
    "\n",
    "12. **Beautiful Soup:** A library for pulling data out of HTML and XML files, making web scraping and data extraction easier.\n",
    "\n",
    "13. **Dask:** A flexible library for parallel computing in Python, enabling efficient handling of larger-than-memory datasets.\n",
    "\n",
    "14. **XGBoost:** An optimized and scalable gradient boosting library for machine learning tasks.\n",
    "\n",
    "15. **LightGBM:** A gradient boosting framework that uses tree-based learning algorithms, designed for distributed and efficient training."
   ]
  },
  {
   "cell_type": "markdown",
   "metadata": {},
   "source": [
    "### Data Science Tools\n",
    "\n",
    "| Tool              | Purpose                              |\n",
    "| ----------------- | ------------------------------------ |\n",
    "| **Jupyter**       | An interactive computing environment that supports various languages, facilitating data exploration and visualization. |\n",
    "| **scikit-learn**  | A versatile machine learning library providing simple and efficient tools for data analysis and modeling, including classification, regression, and clustering algorithms. |\n",
    "| **TensorFlow**    | An open-source deep learning framework designed for building and training neural network models, widely used for tasks like image recognition and natural language processing. |\n",
    "| **PyTorch**        | A dynamic deep learning library offering a flexible and efficient platform for research and development of neural network models. |\n",
    "| **RStudio**       | An integrated development environment (IDE) for the R programming language, commonly used for statistical computing and data analysis. |\n",
    "| **Apache Spark**  | A fast and distributed data processing engine that supports big data processing and analytics with its in-memory computing capabilities. |\n",
    "| **Tableau**       | A powerful data visualization tool that allows users to create interactive and shareable dashboards, aiding in data exploration and presentation. |\n",
    "| **Git**           | A version control system essential for tracking changes in code and collaborating on data science projects efficiently. |\n",
    "| **Docker**        | A platform for automating the deployment and scaling of applications, providing a consistent environment across different computing environments. |\n",
    "| **Keras**         | A high-level neural networks API written in Python, serving as a user-friendly interface for building and experimenting with deep learning models. |\n",
    "| **Hadoop**        | A distributed storage and processing framework designed for handling and analyzing large datasets, crucial for big data applications. |\n",
    "| **SAS**           | A software suite used for advanced analytics, business intelligence, and data management in various industries. |\n",
    "| **Power BI**      | A business analytics tool that enables users to visualize and share insights from their data, integrating seamlessly with other Microsoft products. |\n",
    "| **Apache Flink**  | A stream processing framework for big data processing and analytics, supporting real-time data processing applications. |\n",
    "| **SciPy**         | An open-source library for mathematics, science, and engineering, extending NumPy functionality with additional modules for optimization, signal processing, and more. |"
   ]
  },
  {
   "cell_type": "markdown",
   "metadata": {},
   "source": [
    "# Arithmetic Expressions"
   ]
  },
  {
   "cell_type": "markdown",
   "metadata": {},
   "source": [
    "## Multiply and Add Numbers"
   ]
  },
  {
   "cell_type": "code",
   "execution_count": 1,
   "metadata": {},
   "outputs": [
    {
     "data": {
      "text/plain": [
       "(50, 35)"
      ]
     },
     "execution_count": 1,
     "metadata": {},
     "output_type": "execute_result"
    }
   ],
   "source": [
    "# Multiply and add numbers\n",
    "result_multiply = 5 * 10\n",
    "result_add = 15 + 20\n",
    "\n",
    "result_multiply, result_add"
   ]
  },
  {
   "cell_type": "markdown",
   "metadata": {},
   "source": [
    "##  Convert Minutes to Hours"
   ]
  },
  {
   "cell_type": "code",
   "execution_count": 2,
   "metadata": {},
   "outputs": [
    {
     "data": {
      "text/plain": [
       "2.0"
      ]
     },
     "execution_count": 2,
     "metadata": {},
     "output_type": "execute_result"
    }
   ],
   "source": [
    "# Convert minutes to hours\n",
    "minutes = 120\n",
    "hours = minutes / 60\n",
    "\n",
    "hours\n"
   ]
  },
  {
   "cell_type": "markdown",
   "metadata": {},
   "source": [
    "# Objectives \n",
    "\n",
    "1. Demonstrate understanding of data science languages.\n",
    "2. Explore and use data science libraries.\n",
    "3. Perform basic arithmetic operations in Python.\n"
   ]
  },
  {
   "cell_type": "markdown",
   "metadata": {},
   "source": [
    "# Author\n",
    "### Junaid Afzal\n"
   ]
  }
 ],
 "metadata": {
  "kernelspec": {
   "display_name": "Python 3",
   "language": "python",
   "name": "python3"
  },
  "language_info": {
   "codemirror_mode": {
    "name": "ipython",
    "version": 3
   },
   "file_extension": ".py",
   "mimetype": "text/x-python",
   "name": "python",
   "nbconvert_exporter": "python",
   "pygments_lexer": "ipython3",
   "version": "3.9.11"
  }
 },
 "nbformat": 4,
 "nbformat_minor": 2
}
